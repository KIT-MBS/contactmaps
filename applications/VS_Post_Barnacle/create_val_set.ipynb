{
 "cells": [
  {
   "cell_type": "markdown",
   "id": "d3af3a5c",
   "metadata": {},
   "source": [
    "# Creation of Validation Set (VS) post Barnacle\n",
    "\n",
    "Creation of a validation set, with all possible molecules, released after training of barnacle. So we should in general avoid overlap with Barnacle Training data."
   ]
  },
  {
   "cell_type": "code",
   "execution_count": 1,
   "id": "54edadd3",
   "metadata": {},
   "outputs": [],
   "source": [
    "# Please execute as header first!\n",
    "\n",
    "import pandas as pd\n",
    "filename_csv = \"VS_overview.csv\"\n",
    "\n",
    "df = pd.read_csv(filename_csv, comment=\"#\")"
   ]
  },
  {
   "cell_type": "markdown",
   "id": "0cca3a96",
   "metadata": {},
   "source": [
    "Downloading all sequences from corresponding `rcsb.org` id (and manually cured the chain afterwards):"
   ]
  },
  {
   "cell_type": "code",
   "execution_count": 52,
   "id": "e4988269",
   "metadata": {},
   "outputs": [],
   "source": [
    "for i, row in df.iterrows():\n",
    "    ! curl --silent https://www.rcsb.org/fasta/entry/\"{row.PDB}\"/download > sequences/\"{row.PDB}\"_\"{row.Chain}\".fasta"
   ]
  },
  {
   "cell_type": "markdown",
   "id": "6b973b49",
   "metadata": {},
   "source": [
    "Adding `filename`to csv:"
   ]
  },
  {
   "cell_type": "code",
   "execution_count": 53,
   "id": "951f70ab",
   "metadata": {},
   "outputs": [],
   "source": [
    "def add_filename(row:pd.Series) -> str:\n",
    "    return f\"{row.PDB}_{row.Chain}\"\n",
    "\n",
    "df[\"Filename\"] = df.apply(add_filename, axis=1)"
   ]
  },
  {
   "cell_type": "markdown",
   "id": "7ed467d3",
   "metadata": {},
   "source": [
    "Adding molecule length `L` to csv:"
   ]
  },
  {
   "cell_type": "code",
   "execution_count": 4,
   "id": "2bfebf5c",
   "metadata": {},
   "outputs": [],
   "source": [
    "def get_L_from_file(row: pd.Series) -> int:\n",
    "    with open(f\"sequences/{row.Filename}.fasta\", \"r\") as sequence_file: \n",
    "        sequence_file.readline()\n",
    "        return len(sequence_file.readline().rstrip())\n",
    "    return 0\n",
    "\n",
    "df[\"L\"] = df.apply(get_L_from_file, axis=1)"
   ]
  },
  {
   "cell_type": "markdown",
   "id": "c4c5b491",
   "metadata": {},
   "source": [
    "Extracting covariance for each family:"
   ]
  },
  {
   "cell_type": "code",
   "execution_count": 56,
   "id": "8f068be2",
   "metadata": {},
   "outputs": [],
   "source": [
    "families = df['Family']\n",
    "for family in families:\n",
    "    ! cmfetch Rfam.cm \"{family}\" > cm/\"{family}\".cm"
   ]
  },
  {
   "cell_type": "markdown",
   "id": "880e6897",
   "metadata": {},
   "source": [
    "Downloading all family core sequences from ``rfam.org``:"
   ]
  },
  {
   "cell_type": "code",
   "execution_count": 60,
   "id": "9bc54c44",
   "metadata": {},
   "outputs": [],
   "source": [
    "familes = df[\"Family\"]\n",
    "for family in families:\n",
    "    ! curl --silent -o MSA/\"{family}\".fasta https://rfam.org/family/\"{family}\"/alignment/fastau"
   ]
  },
  {
   "cell_type": "markdown",
   "id": "baf6f3d3",
   "metadata": {},
   "source": [
    "Add molecule sequence as first entry into MSA:"
   ]
  },
  {
   "cell_type": "code",
   "execution_count": 61,
   "id": "edf86a5f",
   "metadata": {},
   "outputs": [],
   "source": [
    "families = df[\"Family\"]\n",
    "for fam in families:\n",
    "    with open(f\"MSA/{fam}.fasta\", \"r+\") as msa_file:\n",
    "        # print(fam, df[df[\"Family\"] == fam].Filename.item())\n",
    "        msa_content = msa_file.read()\n",
    "        with open(\n",
    "            f\"sequences/{df[df['Family'] == fam].Filename.item()}.fasta\", \"r\"\n",
    "        ) as sequence_file:\n",
    "            target_sequence = sequence_file.read().rstrip(\"\\n\")\n",
    "            msa_file.seek(0, 0)\n",
    "            msa_file.write(target_sequence + \"\\n\" + msa_content)"
   ]
  },
  {
   "cell_type": "markdown",
   "id": "18d3387b",
   "metadata": {},
   "source": [
    "Align according to first sequence:"
   ]
  },
  {
   "cell_type": "code",
   "execution_count": 62,
   "id": "c767a18f",
   "metadata": {},
   "outputs": [],
   "source": [
    "families = df[\"Family\"]\n",
    "for fam in families:\n",
    "    ! cmalign cm/\"{fam}\".cm MSA/\"{fam}\".fasta > MSA/\"{fam}\".stk\n",
    "    ! esl-reformat afa MSA/\"{fam}\".stk > MSA/\"{fam}\".fa\n",
    "    ! rm MSA/\"{fam}\".fasta MSA/\"{fam}\".stk"
   ]
  },
  {
   "cell_type": "markdown",
   "id": "8e869d42",
   "metadata": {},
   "source": [
    "Download all PDB Files:"
   ]
  },
  {
   "cell_type": "code",
   "execution_count": null,
   "id": "e5af3d4b",
   "metadata": {},
   "outputs": [],
   "source": [
    "from Bio.PDB import MMCIFParser, PDBIO\n",
    "\n",
    "families = df[\"Family\"]\n",
    "for fam in families:\n",
    "    pdb_name = df[df['Family'] == fam].PDB.item()\n",
    "    chain_id = df[df['Family'] == fam].Chain.item()\n",
    "    print(pdb_name)\n",
    "    ! curl -f https://files.rcsb.org/download/\"{pdb_name}\".cif.gz -o ./PDB/\"{pdb_name}\".cif.gz\n",
    "    ! gunzip -f ./PDB/\"{pdb_name}\".cif.gz\n",
    "    parser = MMCIFParser()\n",
    "    struc = parser.get_structure(pdb_name, f\"PDB/{pdb_name}.cif\")\n",
    "    io = PDBIO()\n",
    "    io.set_structure(struc[0][chain_id])\n",
    "    io.save(f\"PDB/{pdb_name}_{chain_id}.pdb\")"
   ]
  },
  {
   "cell_type": "code",
   "execution_count": 72,
   "id": "775f21fb",
   "metadata": {},
   "outputs": [],
   "source": [
    "df.to_csv(\"VS_final.csv\", index=False)"
   ]
  },
  {
   "cell_type": "markdown",
   "id": "d8c4722c",
   "metadata": {},
   "source": [
    "## DCA & CoCoNet Prediction\n",
    "\n",
    "Firstly trim all the MSA files:"
   ]
  },
  {
   "cell_type": "code",
   "execution_count": 65,
   "id": "1795c441",
   "metadata": {},
   "outputs": [],
   "source": [
    "families = df[\"Family\"]\n",
    "\n",
    "\n",
    "with open(\"cut_files.sh\", \"w\") as f:\n",
    "    f.write(\"#!/bin/bash \\n\")\n",
    "    for fam in families:\n",
    "        f.write(\n",
    "            f\"pydca trim_by_refseq 'rna' uncut/{fam}.fa sequences/{df[df['Family'] == fam].Filename.item()}.fasta --remove_all_gaps --verbose \\n\"\n",
    "        )"
   ]
  },
  {
   "cell_type": "markdown",
   "id": "66cd95f4",
   "metadata": {},
   "source": [
    "Calculate the effective number of sequences in the MSAs with https://gitlab.jsc.fz-juelich.de/faber1/sequeff:"
   ]
  },
  {
   "cell_type": "code",
   "execution_count": 70,
   "id": "8bdff275",
   "metadata": {},
   "outputs": [],
   "source": [
    "families = df[\"Family\"]\n",
    "\n",
    "Meff = []\n",
    "for family in families:\n",
    "    result = ! ./sequeff -f MSA/Trimmed_\"{family}\".fa\n",
    "    Meff.append(float(result[0]))\n",
    "\n",
    "df[\"Meff\"] = Meff"
   ]
  },
  {
   "cell_type": "markdown",
   "id": "5aceb084",
   "metadata": {},
   "source": [
    "Create CoCoNet predictions (including pyDCA):"
   ]
  },
  {
   "cell_type": "code",
   "execution_count": 3,
   "id": "8423ff43",
   "metadata": {},
   "outputs": [],
   "source": [
    "families = df[\"Family\"]\n",
    "\n",
    "with open(\"run_coconet.sh\", \"w\") as f:\n",
    "    f.write(\"#!/bin/bash \\n\")\n",
    "    for fam in families:\n",
    "        f.write(f\"python -m coconet.main ../cut/Trimmed_{fam}.fa \\n\")"
   ]
  },
  {
   "cell_type": "markdown",
   "id": "400727e0",
   "metadata": {},
   "source": [
    "Create sequence files with only one line as input for SimRNA:"
   ]
  },
  {
   "cell_type": "code",
   "execution_count": 4,
   "id": "750a5174",
   "metadata": {},
   "outputs": [],
   "source": [
    "df = pd.read_csv(\"VS_final.csv\", comment=\"#\")\n",
    "\n",
    "for i, row in df.iterrows():\n",
    "    with open(f\"sequences/{row.Filename}.fasta\", \"r\") as in_file, open(f\"sequences/{row.Filename}.fa\", \"w\") as out_file:\n",
    "        out_file.write(in_file.readlines()[1])"
   ]
  },
  {
   "cell_type": "code",
   "execution_count": null,
   "id": "188c9ddf",
   "metadata": {},
   "outputs": [],
   "source": []
  }
 ],
 "metadata": {
  "kernelspec": {
   "display_name": "default",
   "language": "python",
   "name": "python3"
  },
  "language_info": {
   "codemirror_mode": {
    "name": "ipython",
    "version": 3
   },
   "file_extension": ".py",
   "mimetype": "text/x-python",
   "name": "python",
   "nbconvert_exporter": "python",
   "pygments_lexer": "ipython3",
   "version": "3.11.13"
  }
 },
 "nbformat": 4,
 "nbformat_minor": 5
}
